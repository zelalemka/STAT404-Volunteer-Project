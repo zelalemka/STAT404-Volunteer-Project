{
  "cells": [
    {
      "cell_type": "code",
      "execution_count": null,
      "id": "40a2f160-1be4-4d23-a541-1db5e13722b0",
      "metadata": {
        "id": "40a2f160-1be4-4d23-a541-1db5e13722b0",
        "outputId": "e64d3b46-5177-4af9-d83c-c6c0a66a09e5"
      },
      "outputs": [
        {
          "name": "stderr",
          "output_type": "stream",
          "text": [
            "\n",
            "Attaching package: ‘dplyr’\n",
            "\n",
            "\n",
            "The following objects are masked from ‘package:stats’:\n",
            "\n",
            "    filter, lag\n",
            "\n",
            "\n",
            "The following objects are masked from ‘package:base’:\n",
            "\n",
            "    intersect, setdiff, setequal, union\n",
            "\n",
            "\n"
          ]
        }
      ],
      "source": [
        "library(dplyr)"
      ]
    },
    {
      "cell_type": "code",
      "execution_count": null,
      "id": "7513f934-04ef-48b1-bdef-ea9ddc2ce038",
      "metadata": {
        "id": "7513f934-04ef-48b1-bdef-ea9ddc2ce038"
      },
      "outputs": [],
      "source": [
        "df <- read.csv(\"305_Student_Data.csv\")"
      ]
    },
    {
      "cell_type": "markdown",
      "id": "b9d9c186-31b3-4665-998a-479445faa9bd",
      "metadata": {
        "id": "b9d9c186-31b3-4665-998a-479445faa9bd"
      },
      "source": [
        "### Data Analysis\n",
        "Among the students in 2023 Fall session of STAT404, 21 completed a survey about their performance in the pre-requisite for the course, STAT305. gasoline consumption was measured in the 50 states and the District of Columbia in the United States by the Federal Highway Administration.\n",
        "The response $y$ is the final STAT305 grade of the students.\n",
        "Four predictor variables are included:\n",
        "\n",
        "> $x_1$: Weekly study time outside of class (hours);\n",
        "\n",
        "> $x_2$: Number of Class absences;\n",
        "\n",
        "> $x_3$: Session of Enrollment in the Course;\n",
        "\n",
        "> $x_4$: Course Enjoyment (Ranked 1-5, 1 being awful, 5 being amazing);\n",
        "\n",
        "Notationally, $k=4$ and $N=21$."
      ]
    },
    {
      "cell_type": "code",
      "execution_count": null,
      "id": "c0455a80-761b-49e7-8573-1ab80b3e712b",
      "metadata": {
        "id": "c0455a80-761b-49e7-8573-1ab80b3e712b"
      },
      "outputs": [],
      "source": [
        "df <- df %>%\n",
        "    mutate(Enrollment.time = recode(Enrollment.time, '2023 summer' = '2023 Summer'))"
      ]
    },
    {
      "cell_type": "code",
      "execution_count": null,
      "id": "b4b43b26-ef64-40d2-b8b5-9d39846e4857",
      "metadata": {
        "id": "b4b43b26-ef64-40d2-b8b5-9d39846e4857",
        "outputId": "7ba8bd52-b915-4b5e-e8e0-8338b173cd1a"
      },
      "outputs": [
        {
          "data": {
            "text/html": [
              "<table class=\"dataframe\">\n",
              "<caption>A data.frame: 6 × 5</caption>\n",
              "<thead>\n",
              "\t<tr><th></th><th scope=col>Overall.grade</th><th scope=col>Weekly.study.hours</th><th scope=col>Class.absences</th><th scope=col>Enrollment.time</th><th scope=col>Enjoyment</th></tr>\n",
              "\t<tr><th></th><th scope=col>&lt;int&gt;</th><th scope=col>&lt;int&gt;</th><th scope=col>&lt;int&gt;</th><th scope=col>&lt;chr&gt;</th><th scope=col>&lt;int&gt;</th></tr>\n",
              "</thead>\n",
              "<tbody>\n",
              "\t<tr><th scope=row>1</th><td> 93</td><td> 5</td><td>1</td><td>2021 Fall  </td><td>5</td></tr>\n",
              "\t<tr><th scope=row>2</th><td> 95</td><td>17</td><td>0</td><td>2019 Winter</td><td>5</td></tr>\n",
              "\t<tr><th scope=row>3</th><td>100</td><td> 3</td><td>0</td><td>2023 Summer</td><td>5</td></tr>\n",
              "\t<tr><th scope=row>4</th><td> 95</td><td> 7</td><td>1</td><td>2022 Fall  </td><td>3</td></tr>\n",
              "\t<tr><th scope=row>5</th><td> 91</td><td> 7</td><td>0</td><td>2022 Fall  </td><td>3</td></tr>\n",
              "\t<tr><th scope=row>6</th><td> 85</td><td> 8</td><td>8</td><td>2023 Summer</td><td>5</td></tr>\n",
              "</tbody>\n",
              "</table>\n"
            ],
            "text/latex": [
              "A data.frame: 6 × 5\n",
              "\\begin{tabular}{r|lllll}\n",
              "  & Overall.grade & Weekly.study.hours & Class.absences & Enrollment.time & Enjoyment\\\\\n",
              "  & <int> & <int> & <int> & <chr> & <int>\\\\\n",
              "\\hline\n",
              "\t1 &  93 &  5 & 1 & 2021 Fall   & 5\\\\\n",
              "\t2 &  95 & 17 & 0 & 2019 Winter & 5\\\\\n",
              "\t3 & 100 &  3 & 0 & 2023 Summer & 5\\\\\n",
              "\t4 &  95 &  7 & 1 & 2022 Fall   & 3\\\\\n",
              "\t5 &  91 &  7 & 0 & 2022 Fall   & 3\\\\\n",
              "\t6 &  85 &  8 & 8 & 2023 Summer & 5\\\\\n",
              "\\end{tabular}\n"
            ],
            "text/markdown": [
              "\n",
              "A data.frame: 6 × 5\n",
              "\n",
              "| <!--/--> | Overall.grade &lt;int&gt; | Weekly.study.hours &lt;int&gt; | Class.absences &lt;int&gt; | Enrollment.time &lt;chr&gt; | Enjoyment &lt;int&gt; |\n",
              "|---|---|---|---|---|---|\n",
              "| 1 |  93 |  5 | 1 | 2021 Fall   | 5 |\n",
              "| 2 |  95 | 17 | 0 | 2019 Winter | 5 |\n",
              "| 3 | 100 |  3 | 0 | 2023 Summer | 5 |\n",
              "| 4 |  95 |  7 | 1 | 2022 Fall   | 3 |\n",
              "| 5 |  91 |  7 | 0 | 2022 Fall   | 3 |\n",
              "| 6 |  85 |  8 | 8 | 2023 Summer | 5 |\n",
              "\n"
            ],
            "text/plain": [
              "  Overall.grade Weekly.study.hours Class.absences Enrollment.time Enjoyment\n",
              "1  93            5                 1              2021 Fall       5        \n",
              "2  95           17                 0              2019 Winter     5        \n",
              "3 100            3                 0              2023 Summer     5        \n",
              "4  95            7                 1              2022 Fall       3        \n",
              "5  91            7                 0              2022 Fall       3        \n",
              "6  85            8                 8              2023 Summer     5        "
            ]
          },
          "metadata": {},
          "output_type": "display_data"
        }
      ],
      "source": [
        "head(df)"
      ]
    },
    {
      "cell_type": "markdown",
      "id": "ed3a5619-bfb5-455f-b705-d4111fc28598",
      "metadata": {
        "id": "ed3a5619-bfb5-455f-b705-d4111fc28598"
      },
      "source": [
        "## Fitting linear models\n",
        "\n",
        "Fitting a linear model means to estimate the unknown $\\beta$.\n",
        "\n",
        "We estimate $\\beta$ using the estimator $\\hat{\\beta}$ that minimizes the quantity\n",
        "\\begin{align*}\n",
        "\\|\\mathbf{y} - \\mathbf{\\hat{y}}\\|_2^2 \\quad=\\quad \\sum_{i=1}^n(y_i-\\hat y_i)^2\n",
        "\\quad=\\quad \\sum_{i=1}^n(y_i-x_i^\\top\\hat\\beta)^2\n",
        "\\quad=\\quad (\\mathbf{y}-\\mathbf{X}\\hat\\beta)^\\top(\\mathbf{y}-\\mathbf{X}\\hat\\beta)\n",
        "\\end{align*}\n",
        "where $\\hat{y}_i=x_i^\\top\\hat{\\beta}$ is our *fitted value*. We will give a name to this quantity later.\n",
        "\n",
        "The $\\hat{\\beta}$ that has this property is called the *least squares estimate* (LSE).\n",
        "\n",
        "Assuming $\\mathbf{X}$ has full column rank, the LSE has a closed-form given by\n",
        "$$\n",
        "\\hat\\beta = (\\mathbf{X}^\\top\\mathbf{X})^{-1}\\mathbf{X}^\\top\\mathbf{y} \\;.\n",
        "$$\n",
        "\n",
        "(The full column rank assumption is so that $\\mathbf{X}^\\top\\mathbf{X}$ is invertible.)"
      ]
    },
    {
      "cell_type": "code",
      "execution_count": null,
      "id": "e535ec88-0ed8-4e76-a37c-96dfa7df280c",
      "metadata": {
        "id": "e535ec88-0ed8-4e76-a37c-96dfa7df280c"
      },
      "outputs": [],
      "source": [
        "df$enroll.num = match(df$Enrollment.time, c(\"2019 Winter\", \"2021 Fall\", \"2021 Winter\", \"2022 Fall\", \"2022 Winter\",\n",
        "                                            \"2023 Summer\")) - 1\n"
      ]
    },
    {
      "cell_type": "code",
      "execution_count": null,
      "id": "4a331746-f9fe-4e61-ad47-527ca56cb015",
      "metadata": {
        "id": "4a331746-f9fe-4e61-ad47-527ca56cb015"
      },
      "outputs": [],
      "source": [
        "y = df$Overall.grade\n",
        "x1 = df$Weekly.study.hours\n",
        "x2 = df$Class.absences\n",
        "x3 = df$enroll.num\n",
        "x4 = df$Enjoyment\n"
      ]
    },
    {
      "cell_type": "code",
      "execution_count": null,
      "id": "fee28812-de72-4fd7-ad18-4131a5f8fbc2",
      "metadata": {
        "id": "fee28812-de72-4fd7-ad18-4131a5f8fbc2",
        "outputId": "57f329c2-b72e-4650-c01c-48d8123d3577"
      },
      "outputs": [
        {
          "name": "stdout",
          "output_type": "stream",
          "text": [
            "       x1 x2 x3 x4\n",
            "[1,] 1  5  1  1  5\n",
            "[2,] 1 17  0  0  5\n",
            "[3,] 1  3  0  5  5\n",
            "[4,] 1  7  1  3  3\n",
            "[5,] 1  7  0  3  3\n",
            "[6,] 1  8  8  5  5\n"
          ]
        }
      ],
      "source": [
        "# Create the design matrix (convert sex to binary with 'Female' as baseline)\n",
        "X = cbind(1, x1, x2, x3, x4)\n",
        "print(head(X))"
      ]
    },
    {
      "cell_type": "code",
      "execution_count": null,
      "id": "6af4abbf-3da0-4b14-9dd4-01adf6338c6b",
      "metadata": {
        "id": "6af4abbf-3da0-4b14-9dd4-01adf6338c6b",
        "outputId": "627fbe7a-25d9-460f-9843-4ea19c627ef2"
      },
      "outputs": [
        {
          "name": "stdout",
          "output_type": "stream",
          "text": [
            "[1]  93  95 100  95  91  85\n"
          ]
        }
      ],
      "source": [
        "print(head(y))"
      ]
    },
    {
      "cell_type": "code",
      "execution_count": null,
      "id": "5af6ccc8-e770-4fe8-b7e1-75a3d8441746",
      "metadata": {
        "id": "5af6ccc8-e770-4fe8-b7e1-75a3d8441746",
        "outputId": "ecc37bb0-01fc-486c-cbca-b0f11b7c99da"
      },
      "outputs": [
        {
          "name": "stdout",
          "output_type": "stream",
          "text": [
            "         [,1]\n",
            "   71.5770341\n",
            "x1  0.2337244\n",
            "x2 -0.5985353\n",
            "x3  0.8197371\n",
            "x4  3.9592104\n"
          ]
        }
      ],
      "source": [
        "# Compute the LSE manually\n",
        "invXTX = solve(t(X) %*% X)\n",
        "XTy = t(X) %*% y\n",
        "beta_manual = invXTX %*% XTy\n",
        "print(beta_manual) # Round to 3 decimals"
      ]
    },
    {
      "cell_type": "code",
      "execution_count": null,
      "id": "40922453-2bb8-4c16-ac56-6b3b44b0807d",
      "metadata": {
        "id": "40922453-2bb8-4c16-ac56-6b3b44b0807d",
        "outputId": "f31b1bce-a12f-417d-be68-2095634d58d5"
      },
      "outputs": [
        {
          "name": "stdout",
          "output_type": "stream",
          "text": [
            "       (Intercept) Weekly.study.hours     Class.absences         enroll.num \n",
            "        71.5770341          0.2337244         -0.5985353          0.8197371 \n",
            "         Enjoyment \n",
            "         3.9592104 \n"
          ]
        }
      ],
      "source": [
        "# Compare results with one-line R function for linear regression\n",
        "# Don't use this on the assignments unless otherwise stated!\n",
        "fit = lm(Overall.grade~ Weekly.study.hours+Class.absences+enroll.num+Enjoyment, data=df)\n",
        "\n",
        "# Extract the coefficients from the fitted model\n",
        "beta = coef(fit)\n",
        "print(beta)"
      ]
    },
    {
      "cell_type": "code",
      "execution_count": null,
      "id": "20211609-4092-4975-8b71-c1498ea3e2f4",
      "metadata": {
        "id": "20211609-4092-4975-8b71-c1498ea3e2f4",
        "outputId": "f58c9bd5-15f2-451d-aa73-a1f9f3301aab"
      },
      "outputs": [
        {
          "data": {
            "text/plain": [
              "\n",
              "Call:\n",
              "lm(formula = Overall.grade ~ Weekly.study.hours + Class.absences + \n",
              "    enroll.num + Enjoyment, data = df)\n",
              "\n",
              "Residuals:\n",
              "     Min       1Q   Median       3Q      Max \n",
              "-13.1473  -2.3486   0.2539   3.6471   8.9833 \n",
              "\n",
              "Coefficients:\n",
              "                   Estimate Std. Error t value Pr(>|t|)    \n",
              "(Intercept)         71.5770     6.8853  10.396  1.6e-08 ***\n",
              "Weekly.study.hours   0.2337     0.5148   0.454  0.65591    \n",
              "Class.absences      -0.5985     0.5252  -1.140  0.27122    \n",
              "enroll.num           0.8197     1.0567   0.776  0.44920    \n",
              "Enjoyment            3.9592     1.2185   3.249  0.00503 ** \n",
              "---\n",
              "Signif. codes:  0 ‘***’ 0.001 ‘**’ 0.01 ‘*’ 0.05 ‘.’ 0.1 ‘ ’ 1\n",
              "\n",
              "Residual standard error: 6.343 on 16 degrees of freedom\n",
              "Multiple R-squared:  0.6284,\tAdjusted R-squared:  0.5355 \n",
              "F-statistic: 6.763 on 4 and 16 DF,  p-value: 0.002193\n"
            ]
          },
          "metadata": {},
          "output_type": "display_data"
        }
      ],
      "source": [
        "summary(fit)"
      ]
    },
    {
      "cell_type": "code",
      "execution_count": null,
      "id": "7642aaf7-a4f7-4297-b0c3-77ccdfa206e7",
      "metadata": {
        "id": "7642aaf7-a4f7-4297-b0c3-77ccdfa206e7",
        "outputId": "fe47b61a-dd9d-4205-88a7-ccb4aecd3fba"
      },
      "outputs": [
        {
          "name": "stdout",
          "output_type": "stream",
          "text": [
            "       1        2        3        4        5        6 \n",
            "92.76291 95.34640 96.17294 86.95141 87.54995 92.55328 \n"
          ]
        }
      ],
      "source": [
        "# Extract fitted values\n",
        "yhat = fitted(fit)\n",
        "print(head(yhat))"
      ]
    }
  ],
  "metadata": {
    "kernelspec": {
      "display_name": "R",
      "language": "R",
      "name": "ir"
    },
    "language_info": {
      "codemirror_mode": "r",
      "file_extension": ".r",
      "mimetype": "text/x-r-source",
      "name": "R",
      "pygments_lexer": "r",
      "version": "4.3.0"
    },
    "colab": {
      "provenance": []
    }
  },
  "nbformat": 4,
  "nbformat_minor": 5
}